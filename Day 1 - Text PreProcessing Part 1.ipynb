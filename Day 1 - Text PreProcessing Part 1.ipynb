{
 "cells": [
  {
   "cell_type": "markdown",
   "metadata": {},
   "source": [
    "References\n",
    "\n",
    "https://dataaspirant.com/nlp-text-preprocessing-techniques-implementation-python/#t-1600077497356"
   ]
  },
  {
   "cell_type": "code",
   "execution_count": 6,
   "metadata": {},
   "outputs": [],
   "source": [
    "import nltk\n",
    "import string\n",
    "import re\n",
    "\n",
    "from nltk.tokenize import word_tokenize\n",
    "from nltk.corpus import stopwords\n",
    "\n",
    "from nltk.stem.porter import PorterStemmer\n",
    "stemmer = PorterStemmer()\n",
    "\n",
    "from nltk.stem import WordNetLemmatizer\n",
    "lemmatizer = WordNetLemmatizer()\n",
    "\n",
    "from collections import Counter\n",
    "import inflect"
   ]
  },
  {
   "cell_type": "code",
   "execution_count": 7,
   "metadata": {},
   "outputs": [],
   "source": [
    "raw_text = \"\"\"India (Hindi: Bhārat), officially the Republic of India (Hindi: Bhārat Gaṇarājya),[23] is a country in South Asia. It is the second-most populous country, the seventh-largest country by land area, and the most populous democracy in the world. Bounded by the Indian Ocean on the south, the Arabian Sea on the southwest, and the Bay of Bengal on the southeast, it shares land borders with Pakistan to the west; China, Nepal, and Bhutan to the north; and Bangladesh and Myanmar to the east. In the Indian Ocean, India is in the vicinity of Sri Lanka and the Maldives; its Andaman and Nicobar Islands share a maritime border with Thailand, Myanmar and Indonesia.\n",
    "\n",
    "Modern humans arrived on the Indian subcontinent from Africa no later than 55,000 years ago.[24] Their long occupation, initially in varying forms of isolation as hunter-gatherers, has made the region highly diverse, second only to Africa in human genetic diversity.[25] Settled life emerged on the subcontinent in the western margins of the Indus river basin 9,000 years ago, evolving gradually into the Indus Valley Civilisation of the third millennium BCE.[26] By 1200 BCE, an archaic form of Sanskrit, an Indo-European language, had diffused into India from the northwest,[27] unfolding as the language of the Rigveda, and recording the dawning of Hinduism in India.[28][disputed – discuss] The Dravidian languages of India were supplanted in the northern and western regions.[29] By 400 BCE, stratification and exclusion by caste had emerged within Hinduism,[30] and Buddhism and Jainism had arisen, proclaiming social orders unlinked to heredity.[31] Early political consolidations gave rise to the loose-knit Maurya and Gupta Empires based in the Ganges Basin.[32] Their collective era was suffused with wide-ranging creativity,[33] but also marked by the declining status of women,[34] and the incorporation of untouchability into an organised system of belief.[g][35] In South India, the Middle kingdoms exported Dravidian-languages scripts and religious cultures to the kingdoms of Southeast Asia.[36]\n",
    "\n",
    "In the early medieval era, Christianity, Islam, Judaism, and Zoroastrianism put down roots on India's southern and western coasts.[37] Muslim armies from Central Asia intermittently overran India's northern plains,[38] eventually establishing the Delhi Sultanate, and drawing northern India into the cosmopolitan networks of medieval Islam.[39] In the 15th century, the Vijayanagara Empire created a long-lasting composite Hindu culture in south India.[40] In the Punjab, Sikhism emerged, rejecting institutionalised religion.[41] The Mughal Empire, in 1526, ushered in two centuries of relative peace,[42] leaving a legacy of luminous architecture.[h][43] Gradually expanding rule of the British East India Company followed, turning India into a colonial economy, but also consolidating its sovereignty.[44] British Crown rule began in 1858. The rights promised to Indians were granted slowly,[45] but technological changes were introduced, and ideas of education, modernity and the public life took root.[46] A pioneering and influential nationalist movement emerged, which was noted for nonviolent resistance and became the major factor in ending British rule.[47] In 1947 the British Indian Empire was partitioned into two independent dominions, a Hindu-majority Dominion of India and a Muslim-majority Dominion of Pakistan, amid large-scale loss of life and an unprecedented migration.[48][49]\n",
    "\n",
    "India has been a federal republic since 1950, governed in a democratic parliamentary system. It is a pluralistic, multilingual and multi-ethnic society. India's population grew from 361 million in 1951 to 1.211 billion in 2011.[50] During the same time, its nominal per capita income increased from US$64 annually to US$1,498, and its literacy rate from 16.6% to 74%. From being a comparatively destitute country in 1951,[51] India has become a fast-growing major economy and a hub for information technology services, with an expanding middle class.[52] It has a space programme which includes several planned or completed extraterrestrial missions. Indian movies, music, and spiritual teachings play an increasing role in global culture.[53] India has substantially reduced its rate of poverty, though at the cost of increasing economic inequality.[54] India is a nuclear-weapon state, which ranks high in military expenditure. It has disputes over Kashmir with its neighbours, Pakistan and China, unresolved since the mid-20th century.[55] Among the socio-economic challenges India faces are gender inequality, child malnutrition,[56] and very unhealthy air pollution.[57] India's land is megadiverse, with four biodiversity hotspots.[58] Its forest cover comprises 21.7% of its area.[59] India's wildlife, which has traditionally been viewed with tolerance in India's culture,[60] is supported among these forests, and elsewhere, in protected habitats.\"\"\""
   ]
  },
  {
   "cell_type": "code",
   "execution_count": 8,
   "metadata": {},
   "outputs": [],
   "source": [
    "# Convert to Lowercase\n",
    "def text_lowercase(text):\n",
    "    return text.lower()"
   ]
  },
  {
   "cell_type": "code",
   "execution_count": 10,
   "metadata": {},
   "outputs": [
    {
     "name": "stdout",
     "output_type": "stream",
     "text": [
      "india (hindi: bhārat), officially the republic of india (hindi: bhārat gaṇarājya),[23] is a country in south asia. it is the second-most populous country, the seventh-largest country by land area, and the most populous democracy in the world. bounded by the indian ocean on the south, the arabian sea on the southwest, and the bay of bengal on the southeast, it shares land borders with pakistan to the west;[f] china, nepal, and bhutan to the north; and bangladesh and myanmar to the east. in the indian ocean, india is in the vicinity of sri lanka and the maldives; its andaman and nicobar islands share a maritime border with thailand, myanmar and indonesia.\n",
      "\n",
      "modern humans arrived on the indian subcontinent from africa no later than 55,000 years ago.[24] their long occupation, initially in varying forms of isolation as hunter-gatherers, has made the region highly diverse, second only to africa in human genetic diversity.[25] settled life emerged on the subcontinent in the western margins of the indus river basin 9,000 years ago, evolving gradually into the indus valley civilisation of the third millennium bce.[26] by 1200 bce, an archaic form of sanskrit, an indo-european language, had diffused into india from the northwest,[27] unfolding as the language of the rigveda, and recording the dawning of hinduism in india.[28][disputed – discuss] the dravidian languages of india were supplanted in the northern and western regions.[29] by 400 bce, stratification and exclusion by caste had emerged within hinduism,[30] and buddhism and jainism had arisen, proclaiming social orders unlinked to heredity.[31] early political consolidations gave rise to the loose-knit maurya and gupta empires based in the ganges basin.[32] their collective era was suffused with wide-ranging creativity,[33] but also marked by the declining status of women,[34] and the incorporation of untouchability into an organised system of belief.[g][35] in south india, the middle kingdoms exported dravidian-languages scripts and religious cultures to the kingdoms of southeast asia.[36]\n",
      "\n",
      "in the early medieval era, christianity, islam, judaism, and zoroastrianism put down roots on india's southern and western coasts.[37] muslim armies from central asia intermittently overran india's northern plains,[38] eventually establishing the delhi sultanate, and drawing northern india into the cosmopolitan networks of medieval islam.[39] in the 15th century, the vijayanagara empire created a long-lasting composite hindu culture in south india.[40] in the punjab, sikhism emerged, rejecting institutionalised religion.[41] the mughal empire, in 1526, ushered in two centuries of relative peace,[42] leaving a legacy of luminous architecture.[h][43] gradually expanding rule of the british east india company followed, turning india into a colonial economy, but also consolidating its sovereignty.[44] british crown rule began in 1858. the rights promised to indians were granted slowly,[45] but technological changes were introduced, and ideas of education, modernity and the public life took root.[46] a pioneering and influential nationalist movement emerged, which was noted for nonviolent resistance and became the major factor in ending british rule.[47] in 1947 the british indian empire was partitioned into two independent dominions, a hindu-majority dominion of india and a muslim-majority dominion of pakistan, amid large-scale loss of life and an unprecedented migration.[48][49]\n",
      "\n",
      "india has been a federal republic since 1950, governed in a democratic parliamentary system. it is a pluralistic, multilingual and multi-ethnic society. india's population grew from 361 million in 1951 to 1.211 billion in 2011.[50] during the same time, its nominal per capita income increased from us$64 annually to us$1,498, and its literacy rate from 16.6% to 74%. from being a comparatively destitute country in 1951,[51] india has become a fast-growing major economy and a hub for information technology services, with an expanding middle class.[52] it has a space programme which includes several planned or completed extraterrestrial missions. indian movies, music, and spiritual teachings play an increasing role in global culture.[53] india has substantially reduced its rate of poverty, though at the cost of increasing economic inequality.[54] india is a nuclear-weapon state, which ranks high in military expenditure. it has disputes over kashmir with its neighbours, pakistan and china, unresolved since the mid-20th century.[55] among the socio-economic challenges india faces are gender inequality, child malnutrition,[56] and very unhealthy air pollution.[57] india's land is megadiverse, with four biodiversity hotspots.[58] its forest cover comprises 21.7% of its area.[59] india's wildlife, which has traditionally been viewed with tolerance in india's culture,[60] is supported among these forests, and elsewhere, in protected habitats.\n"
     ]
    }
   ],
   "source": [
    "print(text_lowercase(raw_text))"
   ]
  },
  {
   "cell_type": "code",
   "execution_count": 11,
   "metadata": {},
   "outputs": [],
   "source": [
    "# Remove numbers\n",
    "def remove_numbers(text):\n",
    "    result = re.sub(r'\\d+', '', text)\n",
    "    return result"
   ]
  },
  {
   "cell_type": "code",
   "execution_count": 12,
   "metadata": {},
   "outputs": [
    {
     "name": "stdout",
     "output_type": "stream",
     "text": [
      "India (Hindi: Bhārat), officially the Republic of India (Hindi: Bhārat Gaṇarājya),[] is a country in South Asia. It is the second-most populous country, the seventh-largest country by land area, and the most populous democracy in the world. Bounded by the Indian Ocean on the south, the Arabian Sea on the southwest, and the Bay of Bengal on the southeast, it shares land borders with Pakistan to the west;[f] China, Nepal, and Bhutan to the north; and Bangladesh and Myanmar to the east. In the Indian Ocean, India is in the vicinity of Sri Lanka and the Maldives; its Andaman and Nicobar Islands share a maritime border with Thailand, Myanmar and Indonesia.\n",
      "\n",
      "Modern humans arrived on the Indian subcontinent from Africa no later than , years ago.[] Their long occupation, initially in varying forms of isolation as hunter-gatherers, has made the region highly diverse, second only to Africa in human genetic diversity.[] Settled life emerged on the subcontinent in the western margins of the Indus river basin , years ago, evolving gradually into the Indus Valley Civilisation of the third millennium BCE.[] By  BCE, an archaic form of Sanskrit, an Indo-European language, had diffused into India from the northwest,[] unfolding as the language of the Rigveda, and recording the dawning of Hinduism in India.[][disputed – discuss] The Dravidian languages of India were supplanted in the northern and western regions.[] By  BCE, stratification and exclusion by caste had emerged within Hinduism,[] and Buddhism and Jainism had arisen, proclaiming social orders unlinked to heredity.[] Early political consolidations gave rise to the loose-knit Maurya and Gupta Empires based in the Ganges Basin.[] Their collective era was suffused with wide-ranging creativity,[] but also marked by the declining status of women,[] and the incorporation of untouchability into an organised system of belief.[g][] In South India, the Middle kingdoms exported Dravidian-languages scripts and religious cultures to the kingdoms of Southeast Asia.[]\n",
      "\n",
      "In the early medieval era, Christianity, Islam, Judaism, and Zoroastrianism put down roots on India's southern and western coasts.[] Muslim armies from Central Asia intermittently overran India's northern plains,[] eventually establishing the Delhi Sultanate, and drawing northern India into the cosmopolitan networks of medieval Islam.[] In the th century, the Vijayanagara Empire created a long-lasting composite Hindu culture in south India.[] In the Punjab, Sikhism emerged, rejecting institutionalised religion.[] The Mughal Empire, in , ushered in two centuries of relative peace,[] leaving a legacy of luminous architecture.[h][] Gradually expanding rule of the British East India Company followed, turning India into a colonial economy, but also consolidating its sovereignty.[] British Crown rule began in . The rights promised to Indians were granted slowly,[] but technological changes were introduced, and ideas of education, modernity and the public life took root.[] A pioneering and influential nationalist movement emerged, which was noted for nonviolent resistance and became the major factor in ending British rule.[] In  the British Indian Empire was partitioned into two independent dominions, a Hindu-majority Dominion of India and a Muslim-majority Dominion of Pakistan, amid large-scale loss of life and an unprecedented migration.[][]\n",
      "\n",
      "India has been a federal republic since , governed in a democratic parliamentary system. It is a pluralistic, multilingual and multi-ethnic society. India's population grew from  million in  to . billion in .[] During the same time, its nominal per capita income increased from US$ annually to US$,, and its literacy rate from .% to %. From being a comparatively destitute country in ,[] India has become a fast-growing major economy and a hub for information technology services, with an expanding middle class.[] It has a space programme which includes several planned or completed extraterrestrial missions. Indian movies, music, and spiritual teachings play an increasing role in global culture.[] India has substantially reduced its rate of poverty, though at the cost of increasing economic inequality.[] India is a nuclear-weapon state, which ranks high in military expenditure. It has disputes over Kashmir with its neighbours, Pakistan and China, unresolved since the mid-th century.[] Among the socio-economic challenges India faces are gender inequality, child malnutrition,[] and very unhealthy air pollution.[] India's land is megadiverse, with four biodiversity hotspots.[] Its forest cover comprises .% of its area.[] India's wildlife, which has traditionally been viewed with tolerance in India's culture,[] is supported among these forests, and elsewhere, in protected habitats.\n"
     ]
    }
   ],
   "source": [
    "print(remove_numbers(raw_text))"
   ]
  },
  {
   "cell_type": "code",
   "execution_count": 13,
   "metadata": {},
   "outputs": [],
   "source": [
    "# remove punctuation\n",
    "def remove_punctuation(text):\n",
    "    translator = str.maketrans('', '', string.punctuation)\n",
    "    return text.translate(translator)"
   ]
  },
  {
   "cell_type": "code",
   "execution_count": 14,
   "metadata": {},
   "outputs": [
    {
     "name": "stdout",
     "output_type": "stream",
     "text": [
      "India Hindi Bhārat officially the Republic of India Hindi Bhārat Gaṇarājya23 is a country in South Asia It is the secondmost populous country the seventhlargest country by land area and the most populous democracy in the world Bounded by the Indian Ocean on the south the Arabian Sea on the southwest and the Bay of Bengal on the southeast it shares land borders with Pakistan to the westf China Nepal and Bhutan to the north and Bangladesh and Myanmar to the east In the Indian Ocean India is in the vicinity of Sri Lanka and the Maldives its Andaman and Nicobar Islands share a maritime border with Thailand Myanmar and Indonesia\n",
      "\n",
      "Modern humans arrived on the Indian subcontinent from Africa no later than 55000 years ago24 Their long occupation initially in varying forms of isolation as huntergatherers has made the region highly diverse second only to Africa in human genetic diversity25 Settled life emerged on the subcontinent in the western margins of the Indus river basin 9000 years ago evolving gradually into the Indus Valley Civilisation of the third millennium BCE26 By 1200 BCE an archaic form of Sanskrit an IndoEuropean language had diffused into India from the northwest27 unfolding as the language of the Rigveda and recording the dawning of Hinduism in India28disputed – discuss The Dravidian languages of India were supplanted in the northern and western regions29 By 400 BCE stratification and exclusion by caste had emerged within Hinduism30 and Buddhism and Jainism had arisen proclaiming social orders unlinked to heredity31 Early political consolidations gave rise to the looseknit Maurya and Gupta Empires based in the Ganges Basin32 Their collective era was suffused with wideranging creativity33 but also marked by the declining status of women34 and the incorporation of untouchability into an organised system of beliefg35 In South India the Middle kingdoms exported Dravidianlanguages scripts and religious cultures to the kingdoms of Southeast Asia36\n",
      "\n",
      "In the early medieval era Christianity Islam Judaism and Zoroastrianism put down roots on Indias southern and western coasts37 Muslim armies from Central Asia intermittently overran Indias northern plains38 eventually establishing the Delhi Sultanate and drawing northern India into the cosmopolitan networks of medieval Islam39 In the 15th century the Vijayanagara Empire created a longlasting composite Hindu culture in south India40 In the Punjab Sikhism emerged rejecting institutionalised religion41 The Mughal Empire in 1526 ushered in two centuries of relative peace42 leaving a legacy of luminous architectureh43 Gradually expanding rule of the British East India Company followed turning India into a colonial economy but also consolidating its sovereignty44 British Crown rule began in 1858 The rights promised to Indians were granted slowly45 but technological changes were introduced and ideas of education modernity and the public life took root46 A pioneering and influential nationalist movement emerged which was noted for nonviolent resistance and became the major factor in ending British rule47 In 1947 the British Indian Empire was partitioned into two independent dominions a Hindumajority Dominion of India and a Muslimmajority Dominion of Pakistan amid largescale loss of life and an unprecedented migration4849\n",
      "\n",
      "India has been a federal republic since 1950 governed in a democratic parliamentary system It is a pluralistic multilingual and multiethnic society Indias population grew from 361 million in 1951 to 1211 billion in 201150 During the same time its nominal per capita income increased from US64 annually to US1498 and its literacy rate from 166 to 74 From being a comparatively destitute country in 195151 India has become a fastgrowing major economy and a hub for information technology services with an expanding middle class52 It has a space programme which includes several planned or completed extraterrestrial missions Indian movies music and spiritual teachings play an increasing role in global culture53 India has substantially reduced its rate of poverty though at the cost of increasing economic inequality54 India is a nuclearweapon state which ranks high in military expenditure It has disputes over Kashmir with its neighbours Pakistan and China unresolved since the mid20th century55 Among the socioeconomic challenges India faces are gender inequality child malnutrition56 and very unhealthy air pollution57 Indias land is megadiverse with four biodiversity hotspots58 Its forest cover comprises 217 of its area59 Indias wildlife which has traditionally been viewed with tolerance in Indias culture60 is supported among these forests and elsewhere in protected habitats\n"
     ]
    }
   ],
   "source": [
    "print(remove_punctuation(raw_text))"
   ]
  },
  {
   "cell_type": "code",
   "execution_count": 15,
   "metadata": {},
   "outputs": [],
   "source": [
    "# remove whitespace from text\n",
    "def remove_whitespace(text):\n",
    "    return  \" \".join(text.split())"
   ]
  },
  {
   "cell_type": "code",
   "execution_count": 16,
   "metadata": {},
   "outputs": [
    {
     "name": "stdout",
     "output_type": "stream",
     "text": [
      "India (Hindi: Bhārat), officially the Republic of India (Hindi: Bhārat Gaṇarājya),[23] is a country in South Asia. It is the second-most populous country, the seventh-largest country by land area, and the most populous democracy in the world. Bounded by the Indian Ocean on the south, the Arabian Sea on the southwest, and the Bay of Bengal on the southeast, it shares land borders with Pakistan to the west;[f] China, Nepal, and Bhutan to the north; and Bangladesh and Myanmar to the east. In the Indian Ocean, India is in the vicinity of Sri Lanka and the Maldives; its Andaman and Nicobar Islands share a maritime border with Thailand, Myanmar and Indonesia. Modern humans arrived on the Indian subcontinent from Africa no later than 55,000 years ago.[24] Their long occupation, initially in varying forms of isolation as hunter-gatherers, has made the region highly diverse, second only to Africa in human genetic diversity.[25] Settled life emerged on the subcontinent in the western margins of the Indus river basin 9,000 years ago, evolving gradually into the Indus Valley Civilisation of the third millennium BCE.[26] By 1200 BCE, an archaic form of Sanskrit, an Indo-European language, had diffused into India from the northwest,[27] unfolding as the language of the Rigveda, and recording the dawning of Hinduism in India.[28][disputed – discuss] The Dravidian languages of India were supplanted in the northern and western regions.[29] By 400 BCE, stratification and exclusion by caste had emerged within Hinduism,[30] and Buddhism and Jainism had arisen, proclaiming social orders unlinked to heredity.[31] Early political consolidations gave rise to the loose-knit Maurya and Gupta Empires based in the Ganges Basin.[32] Their collective era was suffused with wide-ranging creativity,[33] but also marked by the declining status of women,[34] and the incorporation of untouchability into an organised system of belief.[g][35] In South India, the Middle kingdoms exported Dravidian-languages scripts and religious cultures to the kingdoms of Southeast Asia.[36] In the early medieval era, Christianity, Islam, Judaism, and Zoroastrianism put down roots on India's southern and western coasts.[37] Muslim armies from Central Asia intermittently overran India's northern plains,[38] eventually establishing the Delhi Sultanate, and drawing northern India into the cosmopolitan networks of medieval Islam.[39] In the 15th century, the Vijayanagara Empire created a long-lasting composite Hindu culture in south India.[40] In the Punjab, Sikhism emerged, rejecting institutionalised religion.[41] The Mughal Empire, in 1526, ushered in two centuries of relative peace,[42] leaving a legacy of luminous architecture.[h][43] Gradually expanding rule of the British East India Company followed, turning India into a colonial economy, but also consolidating its sovereignty.[44] British Crown rule began in 1858. The rights promised to Indians were granted slowly,[45] but technological changes were introduced, and ideas of education, modernity and the public life took root.[46] A pioneering and influential nationalist movement emerged, which was noted for nonviolent resistance and became the major factor in ending British rule.[47] In 1947 the British Indian Empire was partitioned into two independent dominions, a Hindu-majority Dominion of India and a Muslim-majority Dominion of Pakistan, amid large-scale loss of life and an unprecedented migration.[48][49] India has been a federal republic since 1950, governed in a democratic parliamentary system. It is a pluralistic, multilingual and multi-ethnic society. India's population grew from 361 million in 1951 to 1.211 billion in 2011.[50] During the same time, its nominal per capita income increased from US$64 annually to US$1,498, and its literacy rate from 16.6% to 74%. From being a comparatively destitute country in 1951,[51] India has become a fast-growing major economy and a hub for information technology services, with an expanding middle class.[52] It has a space programme which includes several planned or completed extraterrestrial missions. Indian movies, music, and spiritual teachings play an increasing role in global culture.[53] India has substantially reduced its rate of poverty, though at the cost of increasing economic inequality.[54] India is a nuclear-weapon state, which ranks high in military expenditure. It has disputes over Kashmir with its neighbours, Pakistan and China, unresolved since the mid-20th century.[55] Among the socio-economic challenges India faces are gender inequality, child malnutrition,[56] and very unhealthy air pollution.[57] India's land is megadiverse, with four biodiversity hotspots.[58] Its forest cover comprises 21.7% of its area.[59] India's wildlife, which has traditionally been viewed with tolerance in India's culture,[60] is supported among these forests, and elsewhere, in protected habitats.\n"
     ]
    }
   ],
   "source": [
    "print(remove_whitespace(raw_text))"
   ]
  },
  {
   "cell_type": "code",
   "execution_count": 20,
   "metadata": {},
   "outputs": [],
   "source": [
    "# remove stopwords function\n",
    "def remove_stopwords(text):\n",
    "    stop_words = set(stopwords.words(\"english\"))\n",
    "    word_tokens = word_tokenize(text)\n",
    "    filtered_text = [word for word in word_tokens if word not in stop_words]\n",
    "    return \" \".join(filtered_text)"
   ]
  },
  {
   "cell_type": "code",
   "execution_count": 21,
   "metadata": {},
   "outputs": [
    {
     "name": "stdout",
     "output_type": "stream",
     "text": [
      "India ( Hindi : Bhārat ) , officially Republic India ( Hindi : Bhārat Gaṇarājya ) , [ 23 ] country South Asia . It second-most populous country , seventh-largest country land area , populous democracy world . Bounded Indian Ocean south , Arabian Sea southwest , Bay Bengal southeast , shares land borders Pakistan west ; [ f ] China , Nepal , Bhutan north ; Bangladesh Myanmar east . In Indian Ocean , India vicinity Sri Lanka Maldives ; Andaman Nicobar Islands share maritime border Thailand , Myanmar Indonesia . Modern humans arrived Indian subcontinent Africa later 55,000 years ago . [ 24 ] Their long occupation , initially varying forms isolation hunter-gatherers , made region highly diverse , second Africa human genetic diversity . [ 25 ] Settled life emerged subcontinent western margins Indus river basin 9,000 years ago , evolving gradually Indus Valley Civilisation third millennium BCE . [ 26 ] By 1200 BCE , archaic form Sanskrit , Indo-European language , diffused India northwest , [ 27 ] unfolding language Rigveda , recording dawning Hinduism India . [ 28 ] [ disputed – discuss ] The Dravidian languages India supplanted northern western regions . [ 29 ] By 400 BCE , stratification exclusion caste emerged within Hinduism , [ 30 ] Buddhism Jainism arisen , proclaiming social orders unlinked heredity . [ 31 ] Early political consolidations gave rise loose-knit Maurya Gupta Empires based Ganges Basin . [ 32 ] Their collective era suffused wide-ranging creativity , [ 33 ] also marked declining status women , [ 34 ] incorporation untouchability organised system belief . [ g ] [ 35 ] In South India , Middle kingdoms exported Dravidian-languages scripts religious cultures kingdoms Southeast Asia . [ 36 ] In early medieval era , Christianity , Islam , Judaism , Zoroastrianism put roots India 's southern western coasts . [ 37 ] Muslim armies Central Asia intermittently overran India 's northern plains , [ 38 ] eventually establishing Delhi Sultanate , drawing northern India cosmopolitan networks medieval Islam . [ 39 ] In 15th century , Vijayanagara Empire created long-lasting composite Hindu culture south India . [ 40 ] In Punjab , Sikhism emerged , rejecting institutionalised religion . [ 41 ] The Mughal Empire , 1526 , ushered two centuries relative peace , [ 42 ] leaving legacy luminous architecture . [ h ] [ 43 ] Gradually expanding rule British East India Company followed , turning India colonial economy , also consolidating sovereignty . [ 44 ] British Crown rule began 1858 . The rights promised Indians granted slowly , [ 45 ] technological changes introduced , ideas education , modernity public life took root . [ 46 ] A pioneering influential nationalist movement emerged , noted nonviolent resistance became major factor ending British rule . [ 47 ] In 1947 British Indian Empire partitioned two independent dominions , Hindu-majority Dominion India Muslim-majority Dominion Pakistan , amid large-scale loss life unprecedented migration . [ 48 ] [ 49 ] India federal republic since 1950 , governed democratic parliamentary system . It pluralistic , multilingual multi-ethnic society . India 's population grew 361 million 1951 1.211 billion 2011 . [ 50 ] During time , nominal per capita income increased US $ 64 annually US $ 1,498 , literacy rate 16.6 % 74 % . From comparatively destitute country 1951 , [ 51 ] India become fast-growing major economy hub information technology services , expanding middle class . [ 52 ] It space programme includes several planned completed extraterrestrial missions . Indian movies , music , spiritual teachings play increasing role global culture . [ 53 ] India substantially reduced rate poverty , though cost increasing economic inequality . [ 54 ] India nuclear-weapon state , ranks high military expenditure . It disputes Kashmir neighbours , Pakistan China , unresolved since mid-20th century . [ 55 ] Among socio-economic challenges India faces gender inequality , child malnutrition , [ 56 ] unhealthy air pollution . [ 57 ] India 's land megadiverse , four biodiversity hotspots . [ 58 ] Its forest cover comprises 21.7 % area . [ 59 ] India 's wildlife , traditionally viewed tolerance India 's culture , [ 60 ] supported among forests , elsewhere , protected habitats .\n"
     ]
    }
   ],
   "source": [
    "print(remove_stopwords(raw_text))"
   ]
  },
  {
   "cell_type": "markdown",
   "metadata": {},
   "source": [
    "## Stemming\n",
    "Statistical method and text normalization technique.\n",
    "In the process of stemming remove the suffix of words to get a base word.\n",
    "Stemming does not always provide meaning or dictionary words  as its result.\n",
    "The speed of the stemming process is fast."
   ]
  },
  {
   "cell_type": "code",
   "execution_count": 24,
   "metadata": {},
   "outputs": [],
   "source": [
    "# stem words in the list of tokenised words\n",
    "def stem_words(text):\n",
    "    word_tokens = word_tokenize(text)\n",
    "    stems = [stemmer.stem(word) for word in word_tokens]\n",
    "    return \" \".join(stems)\n"
   ]
  },
  {
   "cell_type": "code",
   "execution_count": 118,
   "metadata": {},
   "outputs": [
    {
     "name": "stdout",
     "output_type": "stream",
     "text": [
      "india ( hindi : bhārat ) , offici the republ of india ( hindi : bhārat gaṇarājya ) , [ 23 ] is a countri in south asia . It is the second-most popul countri , the seventh-largest countri by land area , and the most popul democraci in the world . bound by the indian ocean on the south , the arabian sea on the southwest , and the bay of bengal on the southeast , it share land border with pakistan to the west ; [ f ] china , nepal , and bhutan to the north ; and bangladesh and myanmar to the east . In the indian ocean , india is in the vicin of sri lanka and the maldiv ; it andaman and nicobar island share a maritim border with thailand , myanmar and indonesia . modern human arriv on the indian subcontin from africa no later than 55,000 year ago . [ 24 ] their long occup , initi in vari form of isol as hunter-gather , ha made the region highli divers , second onli to africa in human genet divers . [ 25 ] settl life emerg on the subcontin in the western margin of the indu river basin 9,000 year ago , evolv gradual into the indu valley civilis of the third millennium bce . [ 26 ] By 1200 bce , an archaic form of sanskrit , an indo-european languag , had diffus into india from the northwest , [ 27 ] unfold as the languag of the rigveda , and record the dawn of hinduism in india . [ 28 ] [ disput – discuss ] the dravidian languag of india were supplant in the northern and western region . [ 29 ] By 400 bce , stratif and exclus by cast had emerg within hinduism , [ 30 ] and buddhism and jainism had arisen , proclaim social order unlink to hered . [ 31 ] earli polit consolid gave rise to the loose-knit maurya and gupta empir base in the gang basin . [ 32 ] their collect era wa suffus with wide-rang creativ , [ 33 ] but also mark by the declin statu of women , [ 34 ] and the incorpor of untouch into an organis system of belief . [ g ] [ 35 ] In south india , the middl kingdom export dravidian-languag script and religi cultur to the kingdom of southeast asia . [ 36 ] In the earli mediev era , christian , islam , judaism , and zoroastrian put down root on india 's southern and western coast . [ 37 ] muslim armi from central asia intermitt overran india 's northern plain , [ 38 ] eventu establish the delhi sultan , and draw northern india into the cosmopolitan network of mediev islam . [ 39 ] In the 15th centuri , the vijayanagara empir creat a long-last composit hindu cultur in south india . [ 40 ] In the punjab , sikhism emerg , reject institutionalis religion . [ 41 ] the mughal empir , in 1526 , usher in two centuri of rel peac , [ 42 ] leav a legaci of lumin architectur . [ h ] [ 43 ] gradual expand rule of the british east india compani follow , turn india into a coloni economi , but also consolid it sovereignti . [ 44 ] british crown rule began in 1858 . the right promis to indian were grant slowli , [ 45 ] but technolog chang were introduc , and idea of educ , modern and the public life took root . [ 46 ] A pioneer and influenti nationalist movement emerg , which wa note for nonviol resist and becam the major factor in end british rule . [ 47 ] In 1947 the british indian empir wa partit into two independ dominion , a hindu-major dominion of india and a muslim-major dominion of pakistan , amid large-scal loss of life and an unpreced migrat . [ 48 ] [ 49 ] india ha been a feder republ sinc 1950 , govern in a democrat parliamentari system . It is a pluralist , multilingu and multi-ethn societi . india 's popul grew from 361 million in 1951 to 1.211 billion in 2011 . [ 50 ] dure the same time , it nomin per capita incom increas from US $ 64 annual to US $ 1,498 , and it literaci rate from 16.6 % to 74 % . from be a compar destitut countri in 1951 , [ 51 ] india ha becom a fast-grow major economi and a hub for inform technolog servic , with an expand middl class . [ 52 ] It ha a space programm which includ sever plan or complet extraterrestri mission . indian movi , music , and spiritu teach play an increas role in global cultur . [ 53 ] india ha substanti reduc it rate of poverti , though at the cost of increas econom inequ . [ 54 ] india is a nuclear-weapon state , which rank high in militari expenditur . It ha disput over kashmir with it neighbour , pakistan and china , unresolv sinc the mid-20th centuri . [ 55 ] among the socio-econom challeng india face are gender inequ , child malnutrit , [ 56 ] and veri unhealthi air pollut . [ 57 ] india 's land is megadivers , with four biodivers hotspot . [ 58 ] it forest cover compris 21.7 % of it area . [ 59 ] india 's wildlif , which ha tradit been view with toler in india 's cultur , [ 60 ] is support among these forest , and elsewher , in protect habitat .\n"
     ]
    }
   ],
   "source": [
    "print(stem_words(raw_text))"
   ]
  },
  {
   "cell_type": "markdown",
   "metadata": {},
   "source": [
    "## Lemmatization\n",
    "Lemmatization is also the same as stemming statistical methods and normalization techniques.\n",
    "Lemmatization follows lexical knowledge to get the root word for original one.\n",
    "The resulting words of lemmatization are always meaningful and dictionary words.\n",
    "As compared to stemming the process, the speed of lemmatization is slow."
   ]
  },
  {
   "cell_type": "code",
   "execution_count": 37,
   "metadata": {},
   "outputs": [],
   "source": [
    "# lemmatize string\n",
    "def lemmatize_word(text):\n",
    "    word_tokens = word_tokenize(text)\n",
    "    # provide context i.e. part-of-speech\n",
    "    lemmas = [lemmatizer.lemmatize(word, pos ='v') for word in word_tokens]\n",
    "    return \" \".join(lemmas)"
   ]
  },
  {
   "cell_type": "code",
   "execution_count": 38,
   "metadata": {},
   "outputs": [
    {
     "name": "stdout",
     "output_type": "stream",
     "text": [
      "India ( Hindi : Bhārat ) , officially the Republic of India ( Hindi : Bhārat Gaṇarājya ) , [ 23 ] be a country in South Asia . It be the second-most populous country , the seventh-largest country by land area , and the most populous democracy in the world . Bounded by the Indian Ocean on the south , the Arabian Sea on the southwest , and the Bay of Bengal on the southeast , it share land border with Pakistan to the west ; [ f ] China , Nepal , and Bhutan to the north ; and Bangladesh and Myanmar to the east . In the Indian Ocean , India be in the vicinity of Sri Lanka and the Maldives ; its Andaman and Nicobar Islands share a maritime border with Thailand , Myanmar and Indonesia . Modern humans arrive on the Indian subcontinent from Africa no later than 55,000 years ago . [ 24 ] Their long occupation , initially in vary form of isolation as hunter-gatherers , have make the region highly diverse , second only to Africa in human genetic diversity . [ 25 ] Settled life emerge on the subcontinent in the western margins of the Indus river basin 9,000 years ago , evolve gradually into the Indus Valley Civilisation of the third millennium BCE . [ 26 ] By 1200 BCE , an archaic form of Sanskrit , an Indo-European language , have diffuse into India from the northwest , [ 27 ] unfold as the language of the Rigveda , and record the dawn of Hinduism in India . [ 28 ] [ dispute – discuss ] The Dravidian languages of India be supplant in the northern and western regions . [ 29 ] By 400 BCE , stratification and exclusion by caste have emerge within Hinduism , [ 30 ] and Buddhism and Jainism have arise , proclaim social order unlinked to heredity . [ 31 ] Early political consolidations give rise to the loose-knit Maurya and Gupta Empires base in the Ganges Basin . [ 32 ] Their collective era be suffuse with wide-ranging creativity , [ 33 ] but also mark by the decline status of women , [ 34 ] and the incorporation of untouchability into an organise system of belief . [ g ] [ 35 ] In South India , the Middle kingdoms export Dravidian-languages script and religious culture to the kingdoms of Southeast Asia . [ 36 ] In the early medieval era , Christianity , Islam , Judaism , and Zoroastrianism put down root on India 's southern and western coast . [ 37 ] Muslim armies from Central Asia intermittently overrun India 's northern plain , [ 38 ] eventually establish the Delhi Sultanate , and draw northern India into the cosmopolitan network of medieval Islam . [ 39 ] In the 15th century , the Vijayanagara Empire create a long-lasting composite Hindu culture in south India . [ 40 ] In the Punjab , Sikhism emerge , reject institutionalise religion . [ 41 ] The Mughal Empire , in 1526 , usher in two centuries of relative peace , [ 42 ] leave a legacy of luminous architecture . [ h ] [ 43 ] Gradually expand rule of the British East India Company follow , turn India into a colonial economy , but also consolidate its sovereignty . [ 44 ] British Crown rule begin in 1858 . The right promise to Indians be grant slowly , [ 45 ] but technological change be introduce , and ideas of education , modernity and the public life take root . [ 46 ] A pioneer and influential nationalist movement emerge , which be note for nonviolent resistance and become the major factor in end British rule . [ 47 ] In 1947 the British Indian Empire be partition into two independent dominions , a Hindu-majority Dominion of India and a Muslim-majority Dominion of Pakistan , amid large-scale loss of life and an unprecedented migration . [ 48 ] [ 49 ] India have be a federal republic since 1950 , govern in a democratic parliamentary system . It be a pluralistic , multilingual and multi-ethnic society . India 's population grow from 361 million in 1951 to 1.211 billion in 2011 . [ 50 ] During the same time , its nominal per capita income increase from US $ 64 annually to US $ 1,498 , and its literacy rate from 16.6 % to 74 % . From be a comparatively destitute country in 1951 , [ 51 ] India have become a fast-growing major economy and a hub for information technology service , with an expand middle class . [ 52 ] It have a space programme which include several plan or complete extraterrestrial missions . Indian movies , music , and spiritual teach play an increase role in global culture . [ 53 ] India have substantially reduce its rate of poverty , though at the cost of increase economic inequality . [ 54 ] India be a nuclear-weapon state , which rank high in military expenditure . It have dispute over Kashmir with its neighbour , Pakistan and China , unresolved since the mid-20th century . [ 55 ] Among the socio-economic challenge India face be gender inequality , child malnutrition , [ 56 ] and very unhealthy air pollution . [ 57 ] India 's land be megadiverse , with four biodiversity hotspots . [ 58 ] Its forest cover comprise 21.7 % of its area . [ 59 ] India 's wildlife , which have traditionally be view with tolerance in India 's culture , [ 60 ] be support among these forest , and elsewhere , in protect habitats .\n"
     ]
    }
   ],
   "source": [
    "print(lemmatize_word(raw_text))"
   ]
  },
  {
   "cell_type": "code",
   "execution_count": 42,
   "metadata": {},
   "outputs": [
    {
     "name": "stdout",
     "output_type": "stream",
     "text": [
      "{'is', 'with', 'a', 'in', 'to', 'the', 'India', 'its', 'and', 'of'}\n"
     ]
    }
   ],
   "source": [
    "#Removal of Frequent words    \n",
    "\n",
    "cnt = Counter()\n",
    "for word in raw_text.split():\n",
    "    cnt[word] += 1\n",
    "    \n",
    "FREQWORDS = set([w for (w, wc) in cnt.most_common(10)])\n",
    "print(FREQWORDS)\n",
    "\n",
    "def remove_freqwords(text):\n",
    "    \"\"\"custom function to remove the frequent words\"\"\"\n",
    "    return \" \".join([word for word in str(text).split() if word not in FREQWORDS])\n",
    "        \n"
   ]
  },
  {
   "cell_type": "code",
   "execution_count": 43,
   "metadata": {},
   "outputs": [
    {
     "name": "stdout",
     "output_type": "stream",
     "text": [
      "(Hindi: Bhārat), officially Republic (Hindi: Bhārat Gaṇarājya),[23] country South Asia. It second-most populous country, seventh-largest country by land area, most populous democracy world. Bounded by Indian Ocean on south, Arabian Sea on southwest, Bay Bengal on southeast, it shares land borders Pakistan west;[f] China, Nepal, Bhutan north; Bangladesh Myanmar east. In Indian Ocean, vicinity Sri Lanka Maldives; Andaman Nicobar Islands share maritime border Thailand, Myanmar Indonesia. Modern humans arrived on Indian subcontinent from Africa no later than 55,000 years ago.[24] Their long occupation, initially varying forms isolation as hunter-gatherers, has made region highly diverse, second only Africa human genetic diversity.[25] Settled life emerged on subcontinent western margins Indus river basin 9,000 years ago, evolving gradually into Indus Valley Civilisation third millennium BCE.[26] By 1200 BCE, an archaic form Sanskrit, an Indo-European language, had diffused into from northwest,[27] unfolding as language Rigveda, recording dawning Hinduism India.[28][disputed – discuss] The Dravidian languages were supplanted northern western regions.[29] By 400 BCE, stratification exclusion by caste had emerged within Hinduism,[30] Buddhism Jainism had arisen, proclaiming social orders unlinked heredity.[31] Early political consolidations gave rise loose-knit Maurya Gupta Empires based Ganges Basin.[32] Their collective era was suffused wide-ranging creativity,[33] but also marked by declining status women,[34] incorporation untouchability into an organised system belief.[g][35] In South India, Middle kingdoms exported Dravidian-languages scripts religious cultures kingdoms Southeast Asia.[36] In early medieval era, Christianity, Islam, Judaism, Zoroastrianism put down roots on India's southern western coasts.[37] Muslim armies from Central Asia intermittently overran India's northern plains,[38] eventually establishing Delhi Sultanate, drawing northern into cosmopolitan networks medieval Islam.[39] In 15th century, Vijayanagara Empire created long-lasting composite Hindu culture south India.[40] In Punjab, Sikhism emerged, rejecting institutionalised religion.[41] The Mughal Empire, 1526, ushered two centuries relative peace,[42] leaving legacy luminous architecture.[h][43] Gradually expanding rule British East Company followed, turning into colonial economy, but also consolidating sovereignty.[44] British Crown rule began 1858. The rights promised Indians were granted slowly,[45] but technological changes were introduced, ideas education, modernity public life took root.[46] A pioneering influential nationalist movement emerged, which was noted for nonviolent resistance became major factor ending British rule.[47] In 1947 British Indian Empire was partitioned into two independent dominions, Hindu-majority Dominion Muslim-majority Dominion Pakistan, amid large-scale loss life an unprecedented migration.[48][49] has been federal republic since 1950, governed democratic parliamentary system. It pluralistic, multilingual multi-ethnic society. India's population grew from 361 million 1951 1.211 billion 2011.[50] During same time, nominal per capita income increased from US$64 annually US$1,498, literacy rate from 16.6% 74%. From being comparatively destitute country 1951,[51] has become fast-growing major economy hub for information technology services, an expanding middle class.[52] It has space programme which includes several planned or completed extraterrestrial missions. Indian movies, music, spiritual teachings play an increasing role global culture.[53] has substantially reduced rate poverty, though at cost increasing economic inequality.[54] nuclear-weapon state, which ranks high military expenditure. It has disputes over Kashmir neighbours, Pakistan China, unresolved since mid-20th century.[55] Among socio-economic challenges faces are gender inequality, child malnutrition,[56] very unhealthy air pollution.[57] India's land megadiverse, four biodiversity hotspots.[58] Its forest cover comprises 21.7% area.[59] India's wildlife, which has traditionally been viewed tolerance India's culture,[60] supported among these forests, elsewhere, protected habitats.\n"
     ]
    }
   ],
   "source": [
    "print(remove_freqwords(raw_text))"
   ]
  },
  {
   "cell_type": "code",
   "execution_count": 44,
   "metadata": {},
   "outputs": [
    {
     "name": "stdout",
     "output_type": "stream",
     "text": [
      "{'among', 'forests,', 'tolerance', 'these', 'protected', 'viewed', 'supported', 'habitats.', 'culture,[60]', 'elsewhere,'}\n"
     ]
    }
   ],
   "source": [
    "#Removal of Rare words\n",
    "n_rare_words = 10\n",
    "RAREWORDS = set([w for (w, wc) in cnt.most_common()[:-n_rare_words-1:-1]])\n",
    "print(RAREWORDS)\n",
    "def remove_rarewords(text):\n",
    "    \"\"\"custom function to remove the rare words\"\"\"\n",
    "    return \" \".join([word for word in str(text).split() if word not in RAREWORDS])\n",
    "\n"
   ]
  },
  {
   "cell_type": "code",
   "execution_count": 45,
   "metadata": {},
   "outputs": [
    {
     "name": "stdout",
     "output_type": "stream",
     "text": [
      "India (Hindi: Bhārat), officially the Republic of India (Hindi: Bhārat Gaṇarājya),[23] is a country in South Asia. It is the second-most populous country, the seventh-largest country by land area, and the most populous democracy in the world. Bounded by the Indian Ocean on the south, the Arabian Sea on the southwest, and the Bay of Bengal on the southeast, it shares land borders with Pakistan to the west;[f] China, Nepal, and Bhutan to the north; and Bangladesh and Myanmar to the east. In the Indian Ocean, India is in the vicinity of Sri Lanka and the Maldives; its Andaman and Nicobar Islands share a maritime border with Thailand, Myanmar and Indonesia. Modern humans arrived on the Indian subcontinent from Africa no later than 55,000 years ago.[24] Their long occupation, initially in varying forms of isolation as hunter-gatherers, has made the region highly diverse, second only to Africa in human genetic diversity.[25] Settled life emerged on the subcontinent in the western margins of the Indus river basin 9,000 years ago, evolving gradually into the Indus Valley Civilisation of the third millennium BCE.[26] By 1200 BCE, an archaic form of Sanskrit, an Indo-European language, had diffused into India from the northwest,[27] unfolding as the language of the Rigveda, and recording the dawning of Hinduism in India.[28][disputed – discuss] The Dravidian languages of India were supplanted in the northern and western regions.[29] By 400 BCE, stratification and exclusion by caste had emerged within Hinduism,[30] and Buddhism and Jainism had arisen, proclaiming social orders unlinked to heredity.[31] Early political consolidations gave rise to the loose-knit Maurya and Gupta Empires based in the Ganges Basin.[32] Their collective era was suffused with wide-ranging creativity,[33] but also marked by the declining status of women,[34] and the incorporation of untouchability into an organised system of belief.[g][35] In South India, the Middle kingdoms exported Dravidian-languages scripts and religious cultures to the kingdoms of Southeast Asia.[36] In the early medieval era, Christianity, Islam, Judaism, and Zoroastrianism put down roots on India's southern and western coasts.[37] Muslim armies from Central Asia intermittently overran India's northern plains,[38] eventually establishing the Delhi Sultanate, and drawing northern India into the cosmopolitan networks of medieval Islam.[39] In the 15th century, the Vijayanagara Empire created a long-lasting composite Hindu culture in south India.[40] In the Punjab, Sikhism emerged, rejecting institutionalised religion.[41] The Mughal Empire, in 1526, ushered in two centuries of relative peace,[42] leaving a legacy of luminous architecture.[h][43] Gradually expanding rule of the British East India Company followed, turning India into a colonial economy, but also consolidating its sovereignty.[44] British Crown rule began in 1858. The rights promised to Indians were granted slowly,[45] but technological changes were introduced, and ideas of education, modernity and the public life took root.[46] A pioneering and influential nationalist movement emerged, which was noted for nonviolent resistance and became the major factor in ending British rule.[47] In 1947 the British Indian Empire was partitioned into two independent dominions, a Hindu-majority Dominion of India and a Muslim-majority Dominion of Pakistan, amid large-scale loss of life and an unprecedented migration.[48][49] India has been a federal republic since 1950, governed in a democratic parliamentary system. It is a pluralistic, multilingual and multi-ethnic society. India's population grew from 361 million in 1951 to 1.211 billion in 2011.[50] During the same time, its nominal per capita income increased from US$64 annually to US$1,498, and its literacy rate from 16.6% to 74%. From being a comparatively destitute country in 1951,[51] India has become a fast-growing major economy and a hub for information technology services, with an expanding middle class.[52] It has a space programme which includes several planned or completed extraterrestrial missions. Indian movies, music, and spiritual teachings play an increasing role in global culture.[53] India has substantially reduced its rate of poverty, though at the cost of increasing economic inequality.[54] India is a nuclear-weapon state, which ranks high in military expenditure. It has disputes over Kashmir with its neighbours, Pakistan and China, unresolved since the mid-20th century.[55] Among the socio-economic challenges India faces are gender inequality, child malnutrition,[56] and very unhealthy air pollution.[57] India's land is megadiverse, with four biodiversity hotspots.[58] Its forest cover comprises 21.7% of its area.[59] India's wildlife, which has traditionally been with in India's is and in\n"
     ]
    }
   ],
   "source": [
    "print(remove_rarewords(raw_text))"
   ]
  },
  {
   "cell_type": "code",
   "execution_count": 116,
   "metadata": {},
   "outputs": [],
   "source": [
    "# convert number into words\n",
    "\n",
    "# import the inflect library\n",
    "\n",
    "p = inflect.engine()\n",
    "  \n",
    "def convert_number(text):\n",
    "    # split string into list of words\n",
    "    temp_str = text.split()\n",
    "    # initialise empty list\n",
    "    new_string = []\n",
    "  \n",
    "    for word in temp_str:\n",
    "        # if word is a digit, convert the digit\n",
    "        # to numbers and append into the new_string list\n",
    "        for char in word: \n",
    "            if char.isdigit():\n",
    "                temp = p.number_to_words(char)\n",
    "                word = word.replace(char,temp)\n",
    "            else:\n",
    "                pass        \n",
    "        new_string.append(word)\n",
    "  \n",
    "    # join the words of new_string to form a string\n",
    "    temp_str = ' '.join(new_string)\n",
    "    return temp_str"
   ]
  },
  {
   "cell_type": "code",
   "execution_count": 117,
   "metadata": {},
   "outputs": [
    {
     "name": "stdout",
     "output_type": "stream",
     "text": [
      "India (Hindi: Bhārat), officially the Republic of India (Hindi: Bhārat Gaṇarājya),[twothree] is a country in South Asia. It is the second-most populous country, the seventh-largest country by land area, and the most populous democracy in the world. Bounded by the Indian Ocean on the south, the Arabian Sea on the southwest, and the Bay of Bengal on the southeast, it shares land borders with Pakistan to the west;[f] China, Nepal, and Bhutan to the north; and Bangladesh and Myanmar to the east. In the Indian Ocean, India is in the vicinity of Sri Lanka and the Maldives; its Andaman and Nicobar Islands share a maritime border with Thailand, Myanmar and Indonesia. Modern humans arrived on the Indian subcontinent from Africa no later than fivefive,zerozerozero years ago.[twofour] Their long occupation, initially in varying forms of isolation as hunter-gatherers, has made the region highly diverse, second only to Africa in human genetic diversity.[twofive] Settled life emerged on the subcontinent in the western margins of the Indus river basin nine,zerozerozero years ago, evolving gradually into the Indus Valley Civilisation of the third millennium BCE.[twosix] By onetwozerozero BCE, an archaic form of Sanskrit, an Indo-European language, had diffused into India from the northwest,[twoseven] unfolding as the language of the Rigveda, and recording the dawning of Hinduism in India.[twoeight][disputed – discuss] The Dravidian languages of India were supplanted in the northern and western regions.[twonine] By fourzerozero BCE, stratification and exclusion by caste had emerged within Hinduism,[threezero] and Buddhism and Jainism had arisen, proclaiming social orders unlinked to heredity.[threeone] Early political consolidations gave rise to the loose-knit Maurya and Gupta Empires based in the Ganges Basin.[threetwo] Their collective era was suffused with wide-ranging creativity,[threethree] but also marked by the declining status of women,[threefour] and the incorporation of untouchability into an organised system of belief.[g][threefive] In South India, the Middle kingdoms exported Dravidian-languages scripts and religious cultures to the kingdoms of Southeast Asia.[threesix] In the early medieval era, Christianity, Islam, Judaism, and Zoroastrianism put down roots on India's southern and western coasts.[threeseven] Muslim armies from Central Asia intermittently overran India's northern plains,[threeeight] eventually establishing the Delhi Sultanate, and drawing northern India into the cosmopolitan networks of medieval Islam.[threenine] In the onefiveth century, the Vijayanagara Empire created a long-lasting composite Hindu culture in south India.[fourzero] In the Punjab, Sikhism emerged, rejecting institutionalised religion.[fourone] The Mughal Empire, in onefivetwosix, ushered in two centuries of relative peace,[fourtwo] leaving a legacy of luminous architecture.[h][fourthree] Gradually expanding rule of the British East India Company followed, turning India into a colonial economy, but also consolidating its sovereignty.[fourfour] British Crown rule began in oneeightfiveeight. The rights promised to Indians were granted slowly,[fourfive] but technological changes were introduced, and ideas of education, modernity and the public life took root.[foursix] A pioneering and influential nationalist movement emerged, which was noted for nonviolent resistance and became the major factor in ending British rule.[fourseven] In oneninefourseven the British Indian Empire was partitioned into two independent dominions, a Hindu-majority Dominion of India and a Muslim-majority Dominion of Pakistan, amid large-scale loss of life and an unprecedented migration.[foureight][fournine] India has been a federal republic since oneninefivezero, governed in a democratic parliamentary system. It is a pluralistic, multilingual and multi-ethnic society. India's population grew from threesixone million in oneninefiveone to one.twooneone billion in twozerooneone.[fivezero] During the same time, its nominal per capita income increased from US$sixfour annually to US$one,fournineeight, and its literacy rate from onesix.six% to sevenfour%. From being a comparatively destitute country in oneninefiveone,[fiveone] India has become a fast-growing major economy and a hub for information technology services, with an expanding middle class.[fivetwo] It has a space programme which includes several planned or completed extraterrestrial missions. Indian movies, music, and spiritual teachings play an increasing role in global culture.[fivethree] India has substantially reduced its rate of poverty, though at the cost of increasing economic inequality.[fivefour] India is a nuclear-weapon state, which ranks high in military expenditure. It has disputes over Kashmir with its neighbours, Pakistan and China, unresolved since the mid-twozeroth century.[fivefive] Among the socio-economic challenges India faces are gender inequality, child malnutrition,[fivesix] and very unhealthy air pollution.[fiveseven] India's land is megadiverse, with four biodiversity hotspots.[fiveeight] Its forest cover comprises twoone.seven% of its area.[fivenine] India's wildlife, which has traditionally been viewed with tolerance in India's culture,[sixzero] is supported among these forests, and elsewhere, in protected habitats.\n"
     ]
    }
   ],
   "source": [
    "print(convert_number(raw_text))"
   ]
  },
  {
   "cell_type": "code",
   "execution_count": 114,
   "metadata": {},
   "outputs": [],
   "source": [
    "#remove citations\n",
    "def remove_citation_reference(text):\n",
    "    text = re.sub(r\"\\s\\([A-Z][a-z]+,\\s[A-Z][a-z]?\\.[^\\)]*,\\s\\d{4}\\)\", \"\", text)\n",
    "    text = re.sub(r'\\[\\w+\\]', '', text)\n",
    "    return text"
   ]
  },
  {
   "cell_type": "code",
   "execution_count": 115,
   "metadata": {},
   "outputs": [
    {
     "name": "stdout",
     "output_type": "stream",
     "text": [
      "India (Hindi: Bhārat), officially the Republic of India (Hindi: Bhārat Gaṇarājya), is a country in South Asia. It is the second-most populous country, the seventh-largest country by land area, and the most populous democracy in the world. Bounded by the Indian Ocean on the south, the Arabian Sea on the southwest, and the Bay of Bengal on the southeast, it shares land borders with Pakistan to the west; China, Nepal, and Bhutan to the north; and Bangladesh and Myanmar to the east. In the Indian Ocean, India is in the vicinity of Sri Lanka and the Maldives; its Andaman and Nicobar Islands share a maritime border with Thailand, Myanmar and Indonesia.\n",
      "\n",
      "Modern humans arrived on the Indian subcontinent from Africa no later than 55,000 years ago. Their long occupation, initially in varying forms of isolation as hunter-gatherers, has made the region highly diverse, second only to Africa in human genetic diversity. Settled life emerged on the subcontinent in the western margins of the Indus river basin 9,000 years ago, evolving gradually into the Indus Valley Civilisation of the third millennium BCE. By 1200 BCE, an archaic form of Sanskrit, an Indo-European language, had diffused into India from the northwest, unfolding as the language of the Rigveda, and recording the dawning of Hinduism in India.[disputed – discuss] The Dravidian languages of India were supplanted in the northern and western regions. By 400 BCE, stratification and exclusion by caste had emerged within Hinduism, and Buddhism and Jainism had arisen, proclaiming social orders unlinked to heredity. Early political consolidations gave rise to the loose-knit Maurya and Gupta Empires based in the Ganges Basin. Their collective era was suffused with wide-ranging creativity, but also marked by the declining status of women, and the incorporation of untouchability into an organised system of belief. In South India, the Middle kingdoms exported Dravidian-languages scripts and religious cultures to the kingdoms of Southeast Asia.\n",
      "\n",
      "In the early medieval era, Christianity, Islam, Judaism, and Zoroastrianism put down roots on India's southern and western coasts. Muslim armies from Central Asia intermittently overran India's northern plains, eventually establishing the Delhi Sultanate, and drawing northern India into the cosmopolitan networks of medieval Islam. In the 15th century, the Vijayanagara Empire created a long-lasting composite Hindu culture in south India. In the Punjab, Sikhism emerged, rejecting institutionalised religion. The Mughal Empire, in 1526, ushered in two centuries of relative peace, leaving a legacy of luminous architecture. Gradually expanding rule of the British East India Company followed, turning India into a colonial economy, but also consolidating its sovereignty. British Crown rule began in 1858. The rights promised to Indians were granted slowly, but technological changes were introduced, and ideas of education, modernity and the public life took root. A pioneering and influential nationalist movement emerged, which was noted for nonviolent resistance and became the major factor in ending British rule. In 1947 the British Indian Empire was partitioned into two independent dominions, a Hindu-majority Dominion of India and a Muslim-majority Dominion of Pakistan, amid large-scale loss of life and an unprecedented migration.\n",
      "\n",
      "India has been a federal republic since 1950, governed in a democratic parliamentary system. It is a pluralistic, multilingual and multi-ethnic society. India's population grew from 361 million in 1951 to 1.211 billion in 2011. During the same time, its nominal per capita income increased from US$64 annually to US$1,498, and its literacy rate from 16.6% to 74%. From being a comparatively destitute country in 1951, India has become a fast-growing major economy and a hub for information technology services, with an expanding middle class. It has a space programme which includes several planned or completed extraterrestrial missions. Indian movies, music, and spiritual teachings play an increasing role in global culture. India has substantially reduced its rate of poverty, though at the cost of increasing economic inequality. India is a nuclear-weapon state, which ranks high in military expenditure. It has disputes over Kashmir with its neighbours, Pakistan and China, unresolved since the mid-20th century. Among the socio-economic challenges India faces are gender inequality, child malnutrition, and very unhealthy air pollution. India's land is megadiverse, with four biodiversity hotspots. Its forest cover comprises 21.7% of its area. India's wildlife, which has traditionally been viewed with tolerance in India's culture, is supported among these forests, and elsewhere, in protected habitats.\n"
     ]
    }
   ],
   "source": [
    "print(remove_citation_reference(raw_text))"
   ]
  }
 ],
 "metadata": {
  "kernelspec": {
   "display_name": "Python 3",
   "language": "python",
   "name": "python3"
  },
  "language_info": {
   "codemirror_mode": {
    "name": "ipython",
    "version": 3
   },
   "file_extension": ".py",
   "mimetype": "text/x-python",
   "name": "python",
   "nbconvert_exporter": "python",
   "pygments_lexer": "ipython3",
   "version": "3.6.5"
  }
 },
 "nbformat": 4,
 "nbformat_minor": 2
}
